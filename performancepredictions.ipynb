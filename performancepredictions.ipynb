{
 "cells": [
  {
   "cell_type": "markdown",
   "metadata": {},
   "source": [
    "# Performance Predictions\n"
   ]
  },
  {
   "cell_type": "markdown",
   "metadata": {},
   "source": [
    "1.  **Introduction and Objective:**  \n",
    "*Goal of the project and its significance:*\n"
   ]
  },
  {
   "cell_type": "code",
   "execution_count": 12,
   "metadata": {},
   "outputs": [
    {
     "name": "stdout",
     "output_type": "stream",
     "text": [
      "        Price               Close                High                 Low  \\\n",
      "0      Ticker                 GLD                 GLD                 GLD   \n",
      "1        Date                 NaN                 NaN                 NaN   \n",
      "2  2020-01-02   143.9499969482422   144.2100067138672  143.39999389648438   \n",
      "3  2020-01-03  145.86000061035156  146.32000732421875  145.39999389648438   \n",
      "4  2020-01-06  147.38999938964844  148.47999572753906   146.9499969482422   \n",
      "\n",
      "                 Open    Volume  \n",
      "0                 GLD       GLD  \n",
      "1                 NaN       NaN  \n",
      "2  143.86000061035156   7733800  \n",
      "3              145.75  12272800  \n",
      "4  148.44000244140625  14403300  \n",
      "<class 'pandas.core.frame.DataFrame'>\n",
      "RangeIndex: 1260 entries, 0 to 1259\n",
      "Data columns (total 6 columns):\n",
      " #   Column  Non-Null Count  Dtype \n",
      "---  ------  --------------  ----- \n",
      " 0   Price   1260 non-null   object\n",
      " 1   Close   1259 non-null   object\n",
      " 2   High    1259 non-null   object\n",
      " 3   Low     1259 non-null   object\n",
      " 4   Open    1259 non-null   object\n",
      " 5   Volume  1259 non-null   object\n",
      "dtypes: object(6)\n",
      "memory usage: 59.2+ KB\n",
      "None\n",
      "Price     0\n",
      "Close     1\n",
      "High      1\n",
      "Low       1\n",
      "Open      1\n",
      "Volume    1\n",
      "dtype: int64\n",
      "Price      object\n",
      "Close     float64\n",
      "High      float64\n",
      "Low       float64\n",
      "Open      float64\n",
      "Volume    float64\n",
      "dtype: object\n"
     ]
    }
   ],
   "source": [
    "import numpy as np\n",
    "import matplotlib.pyplot as plt\n",
    "import pandas as pd\n",
    "import os\n",
    "\n",
    "file_path = os.path.join(os.getcwd(), 'Datasets', 'gold_data.csv')\n",
    "df = pd.read_csv(file_path) \n",
    "print(df.head())\n",
    "print(df.info())\n",
    "\n",
    "# check for missing values\n",
    "print(df.isnull().sum())\n",
    "\n",
    "# Convert object culomns to float\n",
    "numeric_cols = ['Close', 'High', 'Low', 'Open', 'Volume']\n",
    "df[numeric_cols] = df[numeric_cols].apply(pd.to_numeric, errors='coerce')\n",
    "# Verify data types\n",
    "print(df.dtypes)\n",
    "\n",
    "#Feature Engineering\n",
    "# Price change\n",
    "df['Price_Change'] = df['Close'] - df['Open']\n",
    "\n",
    "# Price change percentage\n",
    "df['Price_Change_Percentage'] = (df['Close'] - df['Open']) / df['Open'] * 100\n",
    "\n",
    "# 7 - day moving average\n",
    "df['7_Day_MA'] = df['Close'].rolling(window=7).mean()"
   ]
  },
  {
   "cell_type": "markdown",
   "metadata": {},
   "source": [
    "2. **Preparing Training and Testing Sets:** \n",
    "\n",
    "*Provide an overview of the dataset, including its source and characteristics.*\n"
   ]
  },
  {
   "cell_type": "code",
   "execution_count": null,
   "metadata": {},
   "outputs": [],
   "source": [
    "from sklearn.model_selection import train_test_split\n",
    "\n",
    "# Define the features (X) and the target variable (y)"
   ]
  },
  {
   "cell_type": "markdown",
   "metadata": {},
   "source": [
    "3. **Data Preprocessing:** \n",
    "\n",
    "*Detail the steps taken to prepare the data for analysis, including cleaning and feature engineering*\n",
    "\n"
   ]
  },
  {
   "cell_type": "code",
   "execution_count": null,
   "metadata": {},
   "outputs": [],
   "source": [
    "\n"
   ]
  },
  {
   "cell_type": "markdown",
   "metadata": {},
   "source": [
    "4. **Training and Testing Set:**\n",
    "\n",
    "*If applicable, define training and testing sets*"
   ]
  },
  {
   "cell_type": "code",
   "execution_count": null,
   "metadata": {},
   "outputs": [],
   "source": [
    "# code goes here as applicable"
   ]
  },
  {
   "cell_type": "markdown",
   "metadata": {},
   "source": [
    "5. **Analytical Model Description:** \n",
    "\n",
    "*Describe the theoretical basis of the model or models being used.*\n"
   ]
  },
  {
   "cell_type": "code",
   "execution_count": null,
   "metadata": {},
   "outputs": [],
   "source": [
    "# code goes here as applicable"
   ]
  },
  {
   "cell_type": "markdown",
   "metadata": {},
   "source": [
    "6. **The Architectural Model (Pipeline) Used:** \n",
    "\n",
    "*Outline the data processing and analysis pipeline.*\n"
   ]
  },
  {
   "cell_type": "code",
   "execution_count": null,
   "metadata": {},
   "outputs": [],
   "source": [
    "# code goes here as applicable"
   ]
  },
  {
   "cell_type": "markdown",
   "metadata": {},
   "source": [
    "\n",
    "7. **Model Implementation:** \n",
    "\n",
    "*Explain the implementation approach and implement the model using appropriate Python libraries.*\n"
   ]
  },
  {
   "cell_type": "code",
   "execution_count": null,
   "metadata": {},
   "outputs": [],
   "source": [
    "# code goes here as applicable"
   ]
  },
  {
   "cell_type": "markdown",
   "metadata": {},
   "source": [
    "\n",
    "8. **Assumptions Verification:** \n",
    "\n",
    "*Discuss and verify any assumptions made during the model development process.*\n"
   ]
  },
  {
   "cell_type": "code",
   "execution_count": null,
   "metadata": {},
   "outputs": [],
   "source": [
    "# code goes here as applicable"
   ]
  },
  {
   "cell_type": "markdown",
   "metadata": {},
   "source": [
    "\n",
    "9. **Deployment:** \n",
    "\n",
    "*Plan for deploying the model in a real-world scenario.*\n"
   ]
  },
  {
   "cell_type": "code",
   "execution_count": null,
   "metadata": {},
   "outputs": [],
   "source": [
    "# code goes here as applicable"
   ]
  },
  {
   "cell_type": "markdown",
   "metadata": {},
   "source": [
    "\n",
    "10. **Execution:** \n",
    "\n",
    "*Execute the model, including data preprocessing, model fitting, and prediction steps.*\n"
   ]
  },
  {
   "cell_type": "code",
   "execution_count": null,
   "metadata": {},
   "outputs": [],
   "source": [
    "# code goes here as applicable"
   ]
  },
  {
   "cell_type": "markdown",
   "metadata": {},
   "source": [
    "\n",
    "11. **Results:** \n",
    "\n",
    "*Present, visualize, interpret, and discuss the results of the analysis.*\n"
   ]
  },
  {
   "cell_type": "code",
   "execution_count": null,
   "metadata": {},
   "outputs": [],
   "source": [
    "# code goes here as applicable"
   ]
  },
  {
   "cell_type": "markdown",
   "metadata": {},
   "source": [
    "\n",
    "12. **Model Validation:** \n",
    "\n",
    "*Validate the model using appropriate metrics and methods.*\n"
   ]
  },
  {
   "cell_type": "code",
   "execution_count": null,
   "metadata": {},
   "outputs": [],
   "source": [
    "# code goes here as applicable"
   ]
  },
  {
   "cell_type": "markdown",
   "metadata": {},
   "source": [
    "\n",
    "13. **Analysis:** \n",
    "\n",
    "*Analyze the results in the context of the project's objectives.*\n"
   ]
  },
  {
   "cell_type": "code",
   "execution_count": null,
   "metadata": {},
   "outputs": [],
   "source": [
    "# code goes here as applicable"
   ]
  },
  {
   "cell_type": "markdown",
   "metadata": {},
   "source": [
    "\n",
    "14. **Error Estimation:** \n",
    "\n",
    "*Estimate the model's error and discuss potential sources of error.*\n"
   ]
  },
  {
   "cell_type": "code",
   "execution_count": null,
   "metadata": {},
   "outputs": [],
   "source": [
    "# code goes here as applicable"
   ]
  },
  {
   "cell_type": "markdown",
   "metadata": {},
   "source": [
    "\n",
    "15. **Model Improvement:** \n",
    "\n",
    "*Suggest ways to improve the model based on the analysis.*\n"
   ]
  },
  {
   "cell_type": "code",
   "execution_count": null,
   "metadata": {},
   "outputs": [],
   "source": [
    "# code goes here as applicable"
   ]
  },
  {
   "cell_type": "markdown",
   "metadata": {},
   "source": [
    "\n",
    "16. **Final Conclusion:** \n",
    "\n",
    "*Summarize the findings and discuss their implications.*"
   ]
  }
 ],
 "metadata": {
  "kernelspec": {
   "display_name": "Python 3",
   "language": "python",
   "name": "python3"
  },
  "language_info": {
   "codemirror_mode": {
    "name": "ipython",
    "version": 3
   },
   "file_extension": ".py",
   "mimetype": "text/x-python",
   "name": "python",
   "nbconvert_exporter": "python",
   "pygments_lexer": "ipython3",
   "version": "3.12.7"
  }
 },
 "nbformat": 4,
 "nbformat_minor": 2
}
